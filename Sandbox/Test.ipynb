{
 "cells": [
  {
   "cell_type": "code",
   "execution_count": 2,
   "metadata": {},
   "outputs": [],
   "source": [
    "# import json\n",
    "import requests\n",
    "import pandas as pd\n",
    "import plotly\n",
    "import plotly.graph_objects as go\n",
    "\n",
    "# https://stackoverflow.com/questions/13598958/import-modules-from-different-folders\n",
    "import sys\n",
    "sys.path.append('C:/Users/Scott/CloudStation/Drive/Jupyter/Coivd19')\n",
    "import CensusData\n",
    "\n",
    "from datetime import datetime, timedelta"
   ]
  },
  {
   "cell_type": "code",
   "execution_count": 2,
   "metadata": {},
   "outputs": [
    {
     "name": "stdout",
     "output_type": "stream",
     "text": [
      "https://api.census.gov/data/2019/pep/population?get=POP&for=state:*\n",
      "Population data API call result: 200 OK\n",
      "https://api.census.gov/data/2010/dec/sf1?get=NAME&for=state:*\n",
      "State name API call result: 200 OK\n"
     ]
    }
   ],
   "source": [
    "dfStateData = CensusData.StateData()"
   ]
  },
  {
   "cell_type": "code",
   "execution_count": 36,
   "metadata": {},
   "outputs": [
    {
     "name": "stdout",
     "output_type": "stream",
     "text": [
      "[[True, 'legendonly', 'legendonly', True, 'legendonly', 'legendonly', False, False, False, False, False, False, False, False, False, False, False, False, False, False, False, False, False, False], [False, False, False, False, False, False, True, 'legendonly', 'legendonly', True, 'legendonly', 'legendonly', False, False, False, False, False, False, False, False, False, False, False, False], [False, False, False, False, False, False, False, False, False, False, False, False, True, 'legendonly', 'legendonly', True, 'legendonly', 'legendonly', False, False, False, False, False, False], [False, False, False, False, False, False, False, False, False, False, False, False, False, False, False, False, False, False, True, 'legendonly', 'legendonly', True, 'legendonly', 'legendonly']]\n"
     ]
    }
   ],
   "source": [
    "# Plot Visibility\n",
    "listVis = []\n",
    "legend = [True, 'legendonly', 'legendonly']\n",
    "for i in range(4):\n",
    "#     plotVis = list(np.repeat([i == 0], 3)) * 2  # Cases, deaths, optional\n",
    "    plotVis = (legend if i == 0 else [False] * 3) * 2\n",
    "    plotVis = plotVis + (legend if i == 1 else [False] * 3) * 2\n",
    "    plotVis = plotVis + (legend if i == 2 else [False] * 3) * 2\n",
    "    plotVis = plotVis + (legend if i == 3 else [False] * 3) * 2\n",
    "    listVis = listVis + [plotVis]\n",
    "plotVisibility =  listVis\n",
    "\n",
    "print(plotVisibility)"
   ]
  },
  {
   "cell_type": "code",
   "execution_count": 22,
   "metadata": {},
   "outputs": [
    {
     "name": "stdout",
     "output_type": "stream",
     "text": [
      "[True, 'legendonly', 'legendonly']\n",
      "[False, False, False]\n"
     ]
    }
   ],
   "source": [
    "truth = [True, True, False]\n",
    "legend = [True, 'legendonly', 'legendonly']\n",
    "\n",
    "for i in range(2):\n",
    "    plotVis = legend if i == 0 else [False] * 3\n",
    "    print(plotVis)\n",
    "\n"
   ]
  },
  {
   "cell_type": "code",
   "execution_count": null,
   "metadata": {},
   "outputs": [],
   "source": []
  }
 ],
 "metadata": {
  "kernelspec": {
   "display_name": "Python 3",
   "language": "python",
   "name": "python3"
  },
  "language_info": {
   "codemirror_mode": {
    "name": "ipython",
    "version": 3
   },
   "file_extension": ".py",
   "mimetype": "text/x-python",
   "name": "python",
   "nbconvert_exporter": "python",
   "pygments_lexer": "ipython3",
   "version": "3.7.4"
  }
 },
 "nbformat": 4,
 "nbformat_minor": 4
}
