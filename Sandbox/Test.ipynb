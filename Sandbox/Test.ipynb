{
 "cells": [
  {
   "cell_type": "code",
   "execution_count": 1,
   "metadata": {},
   "outputs": [],
   "source": [
    "# import json\n",
    "import requests\n",
    "import pandas as pd\n",
    "import plotly\n",
    "import plotly.graph_objects as go\n",
    "\n",
    "# https://stackoverflow.com/questions/13598958/import-modules-from-different-folders\n",
    "import sys\n",
    "sys.path.append('C:/Users/Scott/CloudStation/Drive/Jupyter/Coivd19')\n",
    "import CensusData\n",
    "\n",
    "from datetime import datetime, timedelta"
   ]
  },
  {
   "cell_type": "code",
   "execution_count": 2,
   "metadata": {},
   "outputs": [
    {
     "name": "stdout",
     "output_type": "stream",
     "text": [
      "https://api.census.gov/data/2019/pep/population?get=POP&for=state:*\n",
      "Population data API call result: 200 OK\n",
      "https://api.census.gov/data/2010/dec/sf1?get=NAME&for=state:*\n",
      "State name API call result: 200 OK\n"
     ]
    }
   ],
   "source": [
    "dfStateData = CensusData.StateData()"
   ]
  },
  {
   "cell_type": "code",
   "execution_count": 3,
   "metadata": {},
   "outputs": [
    {
     "name": "stdout",
     "output_type": "stream",
     "text": [
      "Change date to 2020-05-11\n",
      "Change date to 2020-05-10\n",
      "Change date to 2020-05-09\n",
      "Change date to 2020-05-08\n",
      "Change date to 2020-05-07\n",
      "Downloaded Apple mobility data\n"
     ]
    }
   ],
   "source": [
    "date = datetime.today()\n",
    "\n",
    "appleURLbase = 'https://covid19-static.cdn-apple.com/covid19-mobility-data/2007HotfixDev51/v2/en-us/applemobilitytrends-'\n",
    "\n",
    "dfApple = pd.DataFrame()\n",
    "while dfApple.empty:\n",
    "    dateStr = date.strftime('%Y-%m-%d')\n",
    "    appleURL = appleURLbase + dateStr + '.csv'\n",
    "#     print(appleURL)\n",
    "    r = requests.get(appleURL)\n",
    "#     print(r.status_code)\n",
    "    if r.status_code == 200:\n",
    "        dfApple = pd.read_csv(appleURL)\n",
    "        print('Downloaded Apple mobility data')\n",
    "    else:\n",
    "        date = date - timedelta(days=1)\n",
    "        print('Change date to ' + date.strftime('%Y-%m-%d'))\n",
    "        \n",
    "    if date < datetime.today() - timedelta(days=10):\n",
    "        print('Failed to find data')\n",
    "        break\n",
    "        \n"
   ]
  },
  {
   "cell_type": "code",
   "execution_count": 48,
   "metadata": {},
   "outputs": [
    {
     "name": "stdout",
     "output_type": "stream",
     "text": [
      "           driving\n",
      "date              \n",
      "2020-01-13     100\n",
      "2020-01-14  104.39\n",
      "2020-01-15  109.34\n",
      "2020-01-16  109.36\n",
      "2020-01-17  129.78\n",
      "...            ...\n",
      "2020-05-03   57.11\n",
      "2020-05-04   65.18\n",
      "2020-05-05   67.93\n",
      "2020-05-06   67.97\n",
      "2020-05-07   70.65\n",
      "\n",
      "[116 rows x 1 columns]\n"
     ]
    }
   ],
   "source": [
    "state = 'California'\n",
    "# state = 'New York'\n",
    "\n",
    "# transType = dfApple[dfApple['region'] == state]\n",
    "appleData = dfApple[dfApple['region'] == state].T\n",
    "\n",
    "transType = appleData.iloc[2]\n",
    "# print(transType)\n",
    "\n",
    "dfState = appleData.iloc[4:]\n",
    "dfState.rename(columns = transType, inplace = True)\n",
    "dfState.index.names = ['date']\n",
    "\n",
    "# print(appleData)\n",
    "print(dfState)\n"
   ]
  }
 ],
 "metadata": {
  "kernelspec": {
   "display_name": "Python 3",
   "language": "python",
   "name": "python3"
  },
  "language_info": {
   "codemirror_mode": {
    "name": "ipython",
    "version": 3
   },
   "file_extension": ".py",
   "mimetype": "text/x-python",
   "name": "python",
   "nbconvert_exporter": "python",
   "pygments_lexer": "ipython3",
   "version": "3.7.4"
  }
 },
 "nbformat": 4,
 "nbformat_minor": 4
}
