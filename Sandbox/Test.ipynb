{
 "cells": [
  {
   "cell_type": "code",
   "execution_count": 1,
   "metadata": {},
   "outputs": [],
   "source": [
    "# import json\n",
    "import requests\n",
    "import pandas as pd\n",
    "import plotly\n",
    "import plotly.graph_objects as go\n",
    "\n",
    "# https://stackoverflow.com/questions/13598958/import-modules-from-different-folders\n",
    "import sys\n",
    "sys.path.append('C:/Users/Scott/CloudStation/Drive/Jupyter/Coivd19')\n",
    "import CensusData\n",
    "\n",
    "from datetime import datetime, timedelta"
   ]
  },
  {
   "cell_type": "code",
   "execution_count": 2,
   "metadata": {},
   "outputs": [
    {
     "name": "stdout",
     "output_type": "stream",
     "text": [
      "https://api.census.gov/data/2019/pep/population?get=POP&for=state:*\n",
      "Population data API call result: 200 OK\n",
      "https://api.census.gov/data/2010/dec/sf1?get=NAME&for=state:*\n",
      "State name API call result: 200 OK\n"
     ]
    }
   ],
   "source": [
    "dfStateData = CensusData.StateData()"
   ]
  },
  {
   "cell_type": "markdown",
   "metadata": {},
   "source": [
    "## Data Sources  \n",
    "Google: https://www.google.com/covid19/mobility/  \n",
    "Apple: https://www.apple.com/covid19/mobility"
   ]
  },
  {
   "cell_type": "code",
   "execution_count": 9,
   "metadata": {},
   "outputs": [],
   "source": [
    "appleCSV = 'C:/Users/Scott/CloudStation/Drive/Jupyter/Coivd19/data/applemobilitytrends-2020-05-17.csv'\n",
    "googleCSV = 'C:/Users/Scott/CloudStation/Drive/Jupyter/Coivd19/data/Global_Mobility_Report.csv'\n",
    "\n",
    "dfApple = pd.read_csv(appleCSV)\n",
    "# dfGoogle = pd.read_csv(googleCSV)       "
   ]
  },
  {
   "cell_type": "code",
   "execution_count": 7,
   "metadata": {},
   "outputs": [
    {
     "name": "stdout",
     "output_type": "stream",
     "text": [
      "           driving\n",
      "date              \n",
      "2020-01-13     100\n",
      "2020-01-14  104.39\n",
      "2020-01-15  109.34\n",
      "2020-01-16  109.36\n",
      "2020-01-17  129.78\n",
      "...            ...\n",
      "2020-05-13   73.64\n",
      "2020-05-14   76.73\n",
      "2020-05-15   90.21\n",
      "2020-05-16   86.58\n",
      "2020-05-17    69.9\n",
      "\n",
      "[126 rows x 1 columns]\n"
     ]
    },
    {
     "name": "stderr",
     "output_type": "stream",
     "text": [
      "C:\\Users\\Scott\\Anaconda3\\lib\\site-packages\\pandas\\core\\frame.py:4223: SettingWithCopyWarning:\n",
      "\n",
      "\n",
      "A value is trying to be set on a copy of a slice from a DataFrame\n",
      "\n",
      "See the caveats in the documentation: http://pandas.pydata.org/pandas-docs/stable/user_guide/indexing.html#returning-a-view-versus-a-copy\n",
      "\n"
     ]
    }
   ],
   "source": [
    "state = 'California'\n",
    "# state = 'New York'\n",
    "\n",
    "# transType = dfApple[dfApple['region'] == state]\n",
    "appleData = dfApple[dfApple['region'] == state].T\n",
    "\n",
    "transType = appleData.iloc[2]\n",
    "# print(transType)\n",
    "\n",
    "dfState = appleData.iloc[4:]\n",
    "dfState.rename(columns = transType, inplace = True)\n",
    "dfState.index.names = ['date']\n",
    "\n",
    "# print(appleData)\n",
    "print(dfState)\n"
   ]
  }
 ],
 "metadata": {
  "kernelspec": {
   "display_name": "Python 3",
   "language": "python",
   "name": "python3"
  },
  "language_info": {
   "codemirror_mode": {
    "name": "ipython",
    "version": 3
   },
   "file_extension": ".py",
   "mimetype": "text/x-python",
   "name": "python",
   "nbconvert_exporter": "python",
   "pygments_lexer": "ipython3",
   "version": "3.7.4"
  }
 },
 "nbformat": 4,
 "nbformat_minor": 4
}
