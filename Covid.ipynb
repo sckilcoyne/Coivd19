{
 "cells": [
  {
   "cell_type": "markdown",
   "metadata": {},
   "source": [
    "# Initialize"
   ]
  },
  {
   "cell_type": "code",
   "execution_count": 1,
   "metadata": {},
   "outputs": [],
   "source": [
    "#  Python Modules\n",
    "import pandas as pd\n",
    "import matplotlib.pyplot as plt\n",
    "import matplotlib.ticker as mtick\n",
    "import numpy as np\n",
    "# import requests\n",
    "import json\n",
    "import math\n",
    "import itertools\n",
    "from cycler import cycler\n",
    "import plotly\n",
    "\n",
    "import imp\n",
    "\n",
    "# Custom Modules\n",
    "import CensusData\n",
    "import CovidData\n",
    "import CovidFunctions\n",
    "import CovidFunctionsPlotly\n",
    "\n",
    "# imp.reload(CovidData)"
   ]
  },
  {
   "cell_type": "markdown",
   "metadata": {},
   "source": [
    "# Covid Data    \n",
    "https://covidtracking.com/api  \n",
    "https://github.com/nytimes/covid-19-data  \n",
    "https://www.apple.com/covid19/mobility  \n",
    "https://www.google.com/covid19/mobility/  \n",
    "\n",
    "## Cool Visulizations\n",
    "https://www.nytimes.com/interactive/2020/05/05/us/coronavirus-death-toll-us.html\n",
    "https://www.nytimes.com/interactive/2020/us/states-reopen-map-coronavirus.html\n",
    "https://www.nytimes.com/interactive/2020/04/03/upshot/coronavirus-metro-area-tracker.html\n",
    "https://www.nytimes.com/interactive/2020/04/23/upshot/five-ways-to-monitor-coronavirus-outbreak-us.html  \n",
    "https://91-divoc.com/pages/covid-visualization/\n",
    "\n",
    "## Posible new sources\n",
    "Data \"coming soon\" https://tracktherecovery.org/\n",
    "https://www.opendatanetwork.com/\n",
    "https://www.cdc.gov/library/researchguides/2019NovelCoronavirus.html\n",
    "https://coronavirus.jhu.edu/\n",
    "https://www.who.int/emergencies/diseases/novel-coronavirus-2019/global-research-on-novel-coronavirus-2019-ncov\n",
    "https://www.who.int/emergencies/diseases/novel-coronavirus-2019/global-research-on-novel-coronavirus-2019-ncov\n",
    "https://www.tableau.com/covid-19-coronavirus-data-resources\n",
    "https://www.tableau.com/covid-19-coronavirus-data-resources/data-sources\n",
    "https://www.kff.org/health-costs/issue-brief/state-data-and-policy-actions-to-address-coronavirus/#socialdistancing\n",
    "https://data.humdata.org/dataset/acaps-covid19-government-measures-dataset  \n",
    "Ideas and projects with data: https://github.com/CSSEGISandData/COVID-19/issues/2389\n"
   ]
  },
  {
   "cell_type": "markdown",
   "metadata": {},
   "source": [
    "## Download and Import Data"
   ]
  },
  {
   "cell_type": "code",
   "execution_count": 2,
   "metadata": {},
   "outputs": [
    {
     "name": "stdout",
     "output_type": "stream",
     "text": [
      "https://api.census.gov/data/2019/pep/population?get=POP&for=state:*\n",
      "Population data API call result: 200 OK\n",
      "https://api.census.gov/data/2010/dec/sf1?get=NAME&for=state:*\n",
      "State name API call result: 200 OK\n",
      "https://raw.githubusercontent.com/nytimes/covid-19-data/master/us-states.csv\n",
      "https://covidtracking.com/api/v1/states/daily.csv\n",
      "Starting download CDC weekely death data...\n",
      "Downloaded CDC weekly death data for every state from 2014-present.\n"
     ]
    },
    {
     "name": "stderr",
     "output_type": "stream",
     "text": [
      "C:\\Users\\Scott\\Anaconda3\\lib\\site-packages\\IPython\\core\\interactiveshell.py:3249: DtypeWarning:\n",
      "\n",
      "Columns (3) have mixed types. Specify dtype option on import or set low_memory=False.\n",
      "\n"
     ]
    },
    {
     "name": "stdout",
     "output_type": "stream",
     "text": [
      "Imported Apple and Google Mobility Reports\n"
     ]
    },
    {
     "name": "stderr",
     "output_type": "stream",
     "text": [
      "C:\\Users\\Scott\\Anaconda3\\lib\\site-packages\\pandas\\core\\frame.py:7123: FutureWarning:\n",
      "\n",
      "Sorting because non-concatenation axis is not aligned. A future version\n",
      "of pandas will change to not sort by default.\n",
      "\n",
      "To accept the future behavior, pass 'sort=False'.\n",
      "\n",
      "To retain the current behavior and silence the warning, pass 'sort=True'.\n",
      "\n",
      "\n"
     ]
    },
    {
     "name": "stdout",
     "output_type": "stream",
     "text": [
      "USA\n",
      "Collected Apple USA data\n",
      "Collected Google USA data\n",
      "Created combined mobility report\n"
     ]
    }
   ],
   "source": [
    "# Census Data\n",
    "dfStateData = CensusData.StateData()\n",
    "# Add USA to State Data with pop equal sum of all states\n",
    "dfStateData.loc['00'] = {'State': 'USA', 'Population': pd.to_numeric(dfStateData['Population']).sum()}\n",
    "\n",
    "# Covid Data\n",
    "dfCovid = CovidData.combine_data()\n",
    "\n",
    "# State Level Events\n",
    "dfEvents = pd.read_csv('Events.txt',parse_dates=[1])\n",
    "\n",
    "# CDC Death Data\n",
    "dfCDCdeaths = CovidData.cdc_death_data(dfStateData)\n",
    "\n",
    "# Google and Apple mobility data\n",
    "dfMobility = CovidData.mobility_data(dfStateData)"
   ]
  },
  {
   "cell_type": "code",
   "execution_count": 13,
   "metadata": {},
   "outputs": [
    {
     "name": "stdout",
     "output_type": "stream",
     "text": [
      "Imported Apple and Google Mobility Reports\n",
      "USA\n",
      "Collected Apple USA data\n",
      "Collected Google USA data\n",
      "Created combined mobility report\n"
     ]
    }
   ],
   "source": [
    "imp.reload(CovidData)\n",
    "dfMobility = CovidData.mobility_data(dfStateData)"
   ]
  },
  {
   "cell_type": "markdown",
   "metadata": {},
   "source": [
    "# Data Analysis"
   ]
  },
  {
   "cell_type": "markdown",
   "metadata": {},
   "source": [
    "## Create USA Total Data"
   ]
  },
  {
   "cell_type": "code",
   "execution_count": 14,
   "metadata": {},
   "outputs": [],
   "source": [
    "# Add total reported CDC deaths for USA for each week\n",
    "dfCDCusa = pd.DataFrame(dfCDCdeaths.groupby(['week', 'year'])['allcause'].sum()).reset_index()\n",
    "dfCDCusa['state'] = 'USA'\n",
    "dfCDCusa['FIPS'] = '00'\n",
    "# dfCDCusa['weekendingdate'] = /add if needed later\n",
    "dfCDCdeaths = dfCDCdeaths.append(dfCDCusa)\n",
    "\n",
    "# For each day, sum columns of dfCovid\n",
    "dfCovidUSA = pd.DataFrame(dfCovid.groupby('date').sum()).reset_index()\n",
    "dfCovidUSA['fips'] = '00'\n",
    "dfCovidUSA.set_index(['fips', 'date'], inplace = True)\n",
    "\n",
    "dfCovid = dfCovid.append(dfCovidUSA)"
   ]
  },
  {
   "cell_type": "markdown",
   "metadata": {},
   "source": [
    "## Merge Data"
   ]
  },
  {
   "cell_type": "code",
   "execution_count": 15,
   "metadata": {},
   "outputs": [
    {
     "name": "stdout",
     "output_type": "stream",
     "text": [
      "['cases(NYT)' 'checkTimeEt(CTP)' 'commercialScore(CTP)'\n",
      " 'dataQualityGrade(CTP)' 'dateChecked(CTP)' 'dateModified(CTP)'\n",
      " 'death(CTP)' 'deathIncrease(CTP)' 'deaths' 'deaths(NYT)' 'grade(CTP)'\n",
      " 'hospitalized(CTP)' 'hospitalizedCumulative(CTP)'\n",
      " 'hospitalizedCurrently(CTP)' 'hospitalizedIncrease(CTP)'\n",
      " 'inIcuCumulative(CTP)' 'inIcuCurrently(CTP)' 'lastUpdateEt(CTP)'\n",
      " 'negative(CTP)' 'negativeIncrease(CTP)' 'negativeRegularScore(CTP)'\n",
      " 'negativeScore(CTP)' 'negativeTestsViral(CTP)'\n",
      " 'onVentilatorCumulative(CTP)' 'onVentilatorCurrently(CTP)' 'pending(CTP)'\n",
      " 'positive(CTP)' 'positiveCasesViral(CTP)' 'positiveIncrease(CTP)'\n",
      " 'positiveScore(CTP)' 'positiveTestsViral(CTP)' 'positive_cases'\n",
      " 'recovered(CTP)' 'score(CTP)' 'totalTestResults(CTP)'\n",
      " 'totalTestResultsIncrease(CTP)' 'totalTestsViral(CTP)' 'week']\n"
     ]
    }
   ],
   "source": [
    "# Average Multiple \n",
    "col = dfCovid.loc[: , [\"cases(NYT)\",\"positive(CTP)\"]]\n",
    "dfCovid['positive_cases'] = col.mean(axis=1)\n",
    "\n",
    "col = dfCovid.loc[: , [\"deaths(NYT)\",\"death(CTP)\"]]\n",
    "dfCovid['deaths'] = col.mean(axis=1)\n",
    "\n",
    "# Covid Deaths by week number\n",
    "dfCovid['week'] = [(index.isocalendar()[1] + index.isocalendar()[2] / 7) for index in dfCovid.index.get_level_values(1)]\n",
    "\n",
    "print(dfCovid.columns.values)"
   ]
  },
  {
   "cell_type": "code",
   "execution_count": 16,
   "metadata": {},
   "outputs": [],
   "source": [
    "fipsList = dfCovid.index.get_level_values(0).unique().astype(int).sort_values().astype(str)\n",
    "fipsList = fipsList.tolist()\n",
    "fipsList[0] = '00'\n",
    "\n",
    "firstDate = dfCovid.index.get_level_values(1).min()\n",
    "currentDate = dfCovid.index.get_level_values(1).max()\n",
    "plotDateRange = [firstDate, currentDate]    "
   ]
  },
  {
   "cell_type": "markdown",
   "metadata": {},
   "source": [
    "## Deaths correlated to cases from previous days"
   ]
  },
  {
   "cell_type": "code",
   "execution_count": 17,
   "metadata": {},
   "outputs": [
    {
     "name": "stdout",
     "output_type": "stream",
     "text": [
      "Completed 30 days of case-death correlations and auto-correlations.\n"
     ]
    }
   ],
   "source": [
    "shiftSearch = 30 # NUmber of days to correlate to\n",
    "\n",
    "dfShiftCor = CovidFunctions.correlations(shiftSearch, dfCovid, fipsList)"
   ]
  },
  {
   "cell_type": "markdown",
   "metadata": {},
   "source": [
    "## State level analysis"
   ]
  },
  {
   "cell_type": "code",
   "execution_count": 19,
   "metadata": {},
   "outputs": [
    {
     "name": "stdout",
     "output_type": "stream",
     "text": [
      "Did not create plot for FIPS = 60\n",
      "Did not create plot for FIPS = 66\n",
      "Did not create plot for FIPS = 69\n",
      "Did not create plot for FIPS = 78\n",
      "Finished Creating all State plots\n"
     ]
    }
   ],
   "source": [
    "imp.reload(CovidFunctions)\n",
    "imp.reload(CovidFunctionsPlotly)\n",
    "\n",
    "# Create plots for each state\n",
    "for fips in fipsList:\n",
    "    if int(fips) in [int(i) for i in dfStateData.index.tolist()]:\n",
    "#         CovidFunctions.state_plot(dfCovid, dfShiftCor, dfStateData, dfEvents, fips, plotDateRange)\n",
    "#         plt.close()\n",
    "        CovidFunctionsPlotly.state_plot(dfCovid, dfShiftCor, dfStateData, dfEvents, \n",
    "                                        dfCDCdeaths, dfMobility, fips, plotDateRange)\n",
    "    else:\n",
    "        print('Did not create plot for FIPS = ' + fips)\n",
    "        \n",
    "# Update index.md\n",
    "CovidFunctionsPlotly.githubIndex(dfStateData, fipsList)\n",
    "        \n",
    "print('Finished Creating all State plots')"
   ]
  },
  {
   "cell_type": "markdown",
   "metadata": {},
   "source": [
    "### Individual State"
   ]
  },
  {
   "cell_type": "code",
   "execution_count": null,
   "metadata": {},
   "outputs": [],
   "source": [
    "imp.reload(CovidFunctions)\n",
    "\n",
    "fips = '25'\n",
    "# plt.plot(dfCovid.loc[fips]['positive_cases'])\n",
    "\n",
    "CovidFunctions.state_plot(dfCovid, dfShiftCor, dfStateData, dfEvents, fips, plotDateRange)\n"
   ]
  },
  {
   "cell_type": "code",
   "execution_count": 43,
   "metadata": {},
   "outputs": [],
   "source": [
    "imp.reload(CovidFunctionsPlotly)\n",
    "fips = '00'\n",
    "\n",
    "CovidFunctionsPlotly.state_plot(dfCovid, dfShiftCor, dfStateData, dfEvents, dfCDCdeaths, dfMobility, fips, plotDateRange)"
   ]
  },
  {
   "cell_type": "code",
   "execution_count": null,
   "metadata": {},
   "outputs": [],
   "source": [
    "imp.reload(CovidFunctionsPlotly)\n",
    "fips = '25'\n",
    "fig = CovidFunctionsPlotly.cdc_deaths_plot(dfCDCdeaths, dfCovid, dfStateData, fips)\n",
    "# fig = CovidFunctionsPlotly.event_markers(fig, dfEventsState)\n",
    "\n",
    "fig.show()\n"
   ]
  },
  {
   "cell_type": "code",
   "execution_count": 28,
   "metadata": {},
   "outputs": [],
   "source": [
    "# Update index.md\n",
    "imp.reload(CovidFunctionsPlotly)\n",
    "CovidFunctionsPlotly.githubIndex(dfStateData, fipsList)"
   ]
  },
  {
   "cell_type": "code",
   "execution_count": null,
   "metadata": {},
   "outputs": [],
   "source": [
    "imp.reload(CovidData)\n",
    "dfCDCdeaths = CovidData.cdc_death_data(dfStateData)\n"
   ]
  }
 ],
 "metadata": {
  "kernelspec": {
   "display_name": "Python 3",
   "language": "python",
   "name": "python3"
  },
  "language_info": {
   "codemirror_mode": {
    "name": "ipython",
    "version": 3
   },
   "file_extension": ".py",
   "mimetype": "text/x-python",
   "name": "python",
   "nbconvert_exporter": "python",
   "pygments_lexer": "ipython3",
   "version": "3.7.4"
  }
 },
 "nbformat": 4,
 "nbformat_minor": 4
}
